{
  "cells": [
    {
      "cell_type": "code",
      "execution_count": 36,
      "metadata": {},
      "outputs": [
        {
          "name": "stdout",
          "output_type": "stream",
          "text": [
            "Dataset shape: (27108, 19)\n",
            "\n",
            "Columns: ['Unnamed: 0', 'Mekan_Adı', 'Kullanıcı_Adı', 'Yorum', 'Puan', 'Yorum_Tarihi', 'Restoran_Kategorisi', 'Restoran_Toplam_Yorum_Sayısı', 'Ortalama_Restoran_Puanı', 'Restoran_Adresi', 'sentiment_score', 'label', 'AI_Result', 'Tat', 'Hizmet', 'Ortam', 'Fiyat-Performans', 'Menü Çeşitliliği', 'Temizlik']\n"
          ]
        },
        {
          "name": "stderr",
          "output_type": "stream",
          "text": [
            "[nltk_data] Downloading package punkt to /Users/Serra/nltk_data...\n",
            "[nltk_data]   Package punkt is already up-to-date!\n"
          ]
        }
      ],
      "source": [
        "import pandas as pd\n",
        "import numpy as np\n",
        "from collections import Counter\n",
        "import spacy\n",
        "from sentence_transformers import SentenceTransformer\n",
        "from sklearn.feature_extraction.text import TfidfVectorizer\n",
        "from sklearn.metrics.pairwise import cosine_similarity\n",
        "import nltk\n",
        "from nltk.tokenize import word_tokenize\n",
        "import re\n",
        "\n",
        "# Download required NLTK data\n",
        "nltk.download('punkt')\n",
        "\n",
        "# Load the data\n",
        "df = pd.read_csv('lastt.csv')\n",
        "print(\"Dataset shape:\", df.shape)\n",
        "print(\"\\nColumns:\", df.columns.tolist())\n"
      ]
    },
    {
      "cell_type": "markdown",
      "metadata": {},
      "source": [
        "# 1.1 Veri Hazırlığı & Temizlik\n",
        "\n",
        "## 1. Null Değer Kontrolü\n"
      ]
    },
    {
      "cell_type": "code",
      "execution_count": 37,
      "metadata": {},
      "outputs": [
        {
          "name": "stdout",
          "output_type": "stream",
          "text": [
            "Null value counts per column:\n",
            "Unnamed: 0                          0\n",
            "Mekan_Adı                           0\n",
            "Kullanıcı_Adı                       0\n",
            "Yorum                               0\n",
            "Puan                                0\n",
            "Yorum_Tarihi                        0\n",
            "Restoran_Kategorisi                 0\n",
            "Restoran_Toplam_Yorum_Sayısı        0\n",
            "Ortalama_Restoran_Puanı             0\n",
            "Restoran_Adresi                     0\n",
            "sentiment_score                     3\n",
            "label                               3\n",
            "AI_Result                           1\n",
            "Tat                             10595\n",
            "Hizmet                          12499\n",
            "Ortam                           19167\n",
            "Fiyat-Performans                20356\n",
            "Menü Çeşitliliği                25165\n",
            "Temizlik                        23473\n",
            "dtype: int64\n",
            "\n",
            "Null value percentages per column:\n",
            "Unnamed: 0                       0.000000\n",
            "Mekan_Adı                        0.000000\n",
            "Kullanıcı_Adı                    0.000000\n",
            "Yorum                            0.000000\n",
            "Puan                             0.000000\n",
            "Yorum_Tarihi                     0.000000\n",
            "Restoran_Kategorisi              0.000000\n",
            "Restoran_Toplam_Yorum_Sayısı     0.000000\n",
            "Ortalama_Restoran_Puanı          0.000000\n",
            "Restoran_Adresi                  0.000000\n",
            "sentiment_score                  0.011067\n",
            "label                            0.011067\n",
            "AI_Result                        0.003689\n",
            "Tat                             39.084403\n",
            "Hizmet                          46.108160\n",
            "Ortam                           70.706065\n",
            "Fiyat-Performans                75.092224\n",
            "Menü Çeşitliliği                92.832374\n",
            "Temizlik                        86.590674\n",
            "dtype: float64\n",
            "\n",
            "Columns containing null values: ['sentiment_score', 'label', 'AI_Result', 'Tat', 'Hizmet', 'Ortam', 'Fiyat-Performans', 'Menü Çeşitliliği', 'Temizlik']\n"
          ]
        }
      ],
      "source": [
        "# Check null values in each column\n",
        "null_counts = df.isnull().sum()\n",
        "print(\"Null value counts per column:\")\n",
        "print(null_counts)\n",
        "\n",
        "# Calculate percentage of null values\n",
        "null_percentages = (null_counts / len(df)) * 100\n",
        "print(\"\\nNull value percentages per column:\")\n",
        "print(null_percentages)\n",
        "\n",
        "# List columns with null values\n",
        "columns_with_nulls = null_counts[null_counts > 0].index.tolist()\n",
        "print(\"\\nColumns containing null values:\", columns_with_nulls)\n"
      ]
    },
    {
      "cell_type": "code",
      "execution_count": 38,
      "metadata": {},
      "outputs": [
        {
          "data": {
            "image/png": "[encoded data removed]",
            "text/plain": [
              "<Figure size 1200x600 with 1 Axes>"
            ]
          },
          "metadata": {},
          "output_type": "display_data"
        }
      ],
      "source": [
        "import matplotlib.pyplot as plt\n",
        "\n",
        "# Visualize the distribution of districts\n",
        "plt.figure(figsize=(12, 6))\n",
        "df['Puan'].value_counts().plot(kind='bar')\n",
        "plt.title('Distribution of Districts')\n",
        "plt.xlabel('District')\n",
        "plt.ylabel('Frequency')\n",
        "plt.xticks(rotation=45)\n",
        "plt.show()"
      ]
    },
    {
      "cell_type": "code",
      "execution_count": 39,
      "metadata": {},
      "outputs": [
        {
          "name": "stdout",
          "output_type": "stream",
          "text": [
            "Null value counts per column:\n",
            "Unnamed: 0                          0\n",
            "Mekan_Adı                           0\n",
            "Kullanıcı_Adı                       0\n",
            "Yorum                               0\n",
            "Puan                                0\n",
            "Yorum_Tarihi                        0\n",
            "Restoran_Kategorisi                 0\n",
            "Restoran_Toplam_Yorum_Sayısı        0\n",
            "Ortalama_Restoran_Puanı             0\n",
            "Restoran_Adresi                     0\n",
            "sentiment_score                     0\n",
            "label                               0\n",
            "AI_Result                           0\n",
            "Tat                             10592\n",
            "Hizmet                          12497\n",
            "Ortam                           19164\n",
            "Fiyat-Performans                20353\n",
            "Menü Çeşitliliği                25161\n",
            "Temizlik                        23470\n",
            "dtype: int64\n"
          ]
        }
      ],
      "source": [
        "df = df.replace('', np.nan)\n",
        "df = df.dropna(subset=['sentiment_score', 'label', 'AI_Result'], how='any')\n",
        "null_counts = df.isnull().sum()\n",
        "print(\"Null value counts per column:\")\n",
        "print(null_counts)"
      ]
    },
    {
      "cell_type": "markdown",
      "metadata": {},
      "source": [
        "## 2. Kategori Skorlarının Normalizasyonu\n"
      ]
    },
    {
      "cell_type": "code",
      "execution_count": 40,
      "metadata": {},
      "outputs": [
        {
          "name": "stdout",
          "output_type": "stream",
          "text": [
            "<class 'pandas.core.frame.DataFrame'>\n",
            "Index: 27104 entries, 0 to 27107\n",
            "Data columns (total 19 columns):\n",
            " #   Column                        Non-Null Count  Dtype  \n",
            "---  ------                        --------------  -----  \n",
            " 0   Unnamed: 0                    27104 non-null  int64  \n",
            " 1   Mekan_Adı                     27104 non-null  object \n",
            " 2   Kullanıcı_Adı                 27104 non-null  object \n",
            " 3   Yorum                         27104 non-null  object \n",
            " 4   Puan                          27104 non-null  int64  \n",
            " 5   Yorum_Tarihi                  27104 non-null  object \n",
            " 6   Restoran_Kategorisi           27104 non-null  object \n",
            " 7   Restoran_Toplam_Yorum_Sayısı  27104 non-null  int64  \n",
            " 8   Ortalama_Restoran_Puanı       27104 non-null  float64\n",
            " 9   Restoran_Adresi               27104 non-null  object \n",
            " 10  sentiment_score               27104 non-null  float64\n",
            " 11  label                         27104 non-null  object \n",
            " 12  AI_Result                     27104 non-null  object \n",
            " 13  Tat                           16512 non-null  object \n",
            " 14  Hizmet                        14607 non-null  object \n",
            " 15  Ortam                         7940 non-null   float64\n",
            " 16  Fiyat-Performans              6751 non-null   float64\n",
            " 17  Menü Çeşitliliği              1943 non-null   float64\n",
            " 18  Temizlik                      3634 non-null   float64\n",
            "dtypes: float64(6), int64(3), object(10)\n",
            "memory usage: 4.1+ MB\n"
          ]
        }
      ],
      "source": [
        "df.info()\n"
      ]
    },
    {
      "cell_type": "code",
      "execution_count": 41,
      "metadata": {},
      "outputs": [
        {
          "name": "stdout",
          "output_type": "stream",
          "text": [
            "⚠️ Problematic cells that could not be converted to float:\n",
            "11696    {'Roast beef pizza': 1.0, 'Cannoli tatlısı': -...\n",
            "19776                                       Balıklar taze.\n",
            "Name: Tat, dtype: object\n"
          ]
        }
      ],
      "source": [
        "col = 'Tat'  # or any column you want\n",
        "# Try to convert, marking errors as NaN\n",
        "converted = pd.to_numeric(df[col], errors='coerce')\n",
        "# Find problematic cells (where conversion failed but value is not null/empty)\n",
        "problematic = df.loc[converted.isna() & df[col].notna(), col]\n",
        "print(\"⚠️ Problematic cells that could not be converted to float:\")\n",
        "print(problematic)\n"
      ]
    },
    {
      "cell_type": "code",
      "execution_count": 42,
      "metadata": {},
      "outputs": [],
      "source": [
        "cols_to_check = ['Tat', 'Hizmet']\n",
        "for col in cols_to_check:\n",
        "    converted = pd.to_numeric(df[col], errors='coerce')\n",
        "    # Drop problematic rows\n",
        "    df = df.loc[~(converted.isna() & df[col].notna())].copy()\n",
        "    # Convert the column to float\n",
        "    df[col] = pd.to_numeric(df[col], errors='coerce')"
      ]
    },
    {
      "cell_type": "code",
      "execution_count": 43,
      "metadata": {},
      "outputs": [],
      "source": [
        "df['Tat'] = df['Tat'].astype(float)\n",
        "df['Hizmet'] = df['Hizmet'].astype(float)"
      ]
    },
    {
      "cell_type": "code",
      "execution_count": 44,
      "metadata": {},
      "outputs": [
        {
          "name": "stdout",
          "output_type": "stream",
          "text": [
            "Normalized Unnamed: 0: Min=0.00, Max=1.00\n",
            "Normalized Puan: Min=0.00, Max=1.00\n",
            "Normalized Restoran_Toplam_Yorum_Sayısı: Min=0.00, Max=1.00\n",
            "Normalized Ortalama_Restoran_Puanı: Min=0.00, Max=1.00\n",
            "Normalized sentiment_score: Min=0.00, Max=1.00\n",
            "Normalized Tat: Min=0.00, Max=1.00\n",
            "Normalized Hizmet: Min=0.00, Max=1.00\n",
            "Normalized Ortam: Min=0.00, Max=1.00\n",
            "Normalized Fiyat-Performans: Min=0.00, Max=1.00\n",
            "Normalized Menü Çeşitliliği: Min=0.00, Max=1.00\n",
            "Normalized Temizlik: Min=0.00, Max=1.00\n"
          ]
        }
      ],
      "source": [
        "# Assuming we have category score columns, let's normalize them to 0-1 range\n",
        "# First, identify category score columns (you might need to adjust this based on your actual column names)\n",
        "# Select columns that contain 'kategori' or 'score' in the name AND are float type\n",
        "category_columns = [\n",
        "    col for col in df.columns \n",
        "    if  (pd.api.types.is_float_dtype(df[col])) or (pd.api.types.is_integer_dtype(df[col]))]\n",
        "\n",
        "if category_columns:\n",
        "    # Min-Max normalization for category scores\n",
        "    for col in category_columns:\n",
        "        min_val = df[col].min()\n",
        "        max_val = df[col].max()\n",
        "        if pd.notnull(min_val) and pd.notnull(max_val) and max_val != min_val:  # avoid division by zero\n",
        "            df[f'{col}_normalized'] = (df[col] - min_val) / (max_val - min_val)\n",
        "            print(f\"Normalized {col}: Min={df[f'{col}_normalized'].min():.2f}, Max={df[f'{col}_normalized'].max():.2f}\")\n",
        "        else:\n",
        "            print(f\"Skipped {col}: constant or empty values\")\n",
        "else:\n",
        "    print(\"No category score float columns found. Please specify the correct column names.\")\n",
        "\n"
      ]
    },
    {
      "cell_type": "markdown",
      "metadata": {},
      "source": [
        "## 3. Adres Parsing (Şehir, İlçe Çıkarma)\n"
      ]
    },
    {
      "cell_type": "code",
      "execution_count": 45,
      "metadata": {},
      "outputs": [
        {
          "name": "stdout",
          "output_type": "stream",
          "text": [
            "İl dağılımı (top 10):\n",
            "Il\n",
            "Ankara    26206\n",
            "Name: count, dtype: int64\n",
            "\n",
            "İlçe dağılımı (top 10):\n",
            "Ilce\n",
            "Çankaya          4717\n",
            "Etimesgut        3626\n",
            "Keçiören         3218\n",
            "Altındağ         2962\n",
            "Mamak            2903\n",
            "Pursaklar        2421\n",
            "Beypazarı        1630\n",
            "Sincan           1460\n",
            "Kahramankazan    1230\n",
            "Yenimahalle      1208\n",
            "Name: count, dtype: int64\n"
          ]
        }
      ],
      "source": [
        "import re\n",
        "import unicodedata\n",
        "import pandas as pd\n",
        "\n",
        "# Full list of Turkish provinces (İl)\n",
        "TR_CITIES = {'ankara','istanbul','izmir'}\n",
        "\n",
        "def _norm(s: str) -> str:\n",
        "    \"\"\"Basic normalize: unicode, collapse spaces, trim.\"\"\"\n",
        "    s = unicodedata.normalize(\"NFKC\", str(s))\n",
        "    s = re.sub(r'\\s+', ' ', s).strip(' ,.;-')\n",
        "    return s\n",
        "\n",
        "def _clean_piece(s: str) -> str:\n",
        "    \"\"\"Drop postal codes & extra symbols from a piece likely holding İlçe.\"\"\"\n",
        "    s = re.sub(r'\\b\\d{4,6}\\b', ' ', s)      # remove postal codes like 06490\n",
        "    s = re.sub(r'[,.;]', ' ', s)\n",
        "    s = re.sub(r'\\s+', ' ', s).strip()\n",
        "    return s\n",
        "\n",
        "def _turkish_title(s: str) -> str:\n",
        "    \"\"\"Simple title-case that preserves Turkish chars reasonably.\"\"\"\n",
        "    # Fix common dotted-i artifacts if present\n",
        "    s = s.replace('i̇', 'i').replace('İ', 'İ')\n",
        "    return s.title()\n",
        "\n",
        "def extract_location_info(address: str):\n",
        "    \"\"\"Return (Ilce, Il) with Turkish casing; None, None if not found.\"\"\"\n",
        "    if pd.isna(address):\n",
        "        return None, None\n",
        "\n",
        "    addr = _norm(address)\n",
        "\n",
        "    # 1) Strong pattern: \"... <ilçe> / <il>\" at the END of address\n",
        "    # Allow letters, Turkish diacritics, dots and spaces in ilçe; only letters in il\n",
        "    m = re.search(r'([A-Za-zÇĞİIÖŞÜçğıiöşü\\.\\-\\s]+)\\s*/\\s*([A-Za-zÇĞİIÖŞÜçğıiöşü]+)\\s*$', addr)\n",
        "    if m:\n",
        "        raw_ilce = _clean_piece(m.group(1))\n",
        "        raw_il   = _clean_piece(m.group(2))\n",
        "        il_l = raw_il.lower()\n",
        "        if il_l in TR_CITIES:\n",
        "            ilce = _turkish_title(raw_ilce.split()[-1]) if raw_ilce else None\n",
        "            il   = _turkish_title(raw_il)\n",
        "            return ilce or None, il\n",
        "\n",
        "    # 2) No slash? Try to detect a city name near the end of string\n",
        "    # Find last occurrence of a known city token\n",
        "    tokens = [t.strip(' ,.;') for t in addr.split()]\n",
        "    lowers = [t.lower() for t in tokens]\n",
        "    city_pos = None\n",
        "    for i in range(len(lowers)-1, -1, -1):\n",
        "        if lowers[i] in TR_CITIES:\n",
        "            city_pos = i\n",
        "            break\n",
        "\n",
        "    if city_pos is not None:\n",
        "        il = _turkish_title(tokens[city_pos])\n",
        "        # Guess district as the closest previous alpha token skipping numbers/abbr\n",
        "        # e.g., \"... 06490 Çankaya Ankara\" -> take \"Çankaya\"\n",
        "        ilce = None\n",
        "        for j in range(city_pos-1, -1, -1):\n",
        "            token = tokens[j]\n",
        "            if re.fullmatch(r'\\d+|no:?|sk\\.?|cd\\.?|mah\\.?|mahallesi', token.lower()):\n",
        "                continue\n",
        "            if re.search(r'[A-Za-zÇĞİIÖŞÜçğıiöşü]', token):\n",
        "                ilce = _turkish_title(token)\n",
        "                break\n",
        "        return ilce, il\n",
        "\n",
        "    # 3) Give up if we can't confidently parse\n",
        "    return None, None\n",
        "\n",
        "# ---- Apply to your DataFrame ----\n",
        "address_column = 'Restoran_Adresi'  # change if needed\n",
        "if address_column in df.columns:\n",
        "    pairs = df[address_column].apply(extract_location_info)\n",
        "    df[['Ilce', 'Il']] = pd.DataFrame(pairs.tolist(), index=df.index)\n",
        "\n",
        "    # Quick sanity prints\n",
        "    print(\"İl dağılımı (top 10):\")\n",
        "    print(df['Il'].value_counts(dropna=True).head(10))\n",
        "    print(\"\\nİlçe dağılımı (top 10):\")\n",
        "    print(df['Ilce'].value_counts(dropna=True).head(10))\n",
        "else:\n",
        "    print(f\"Address column '{address_column}' not found. Available columns:\", df.columns.tolist())\n"
      ]
    },
    {
      "cell_type": "code",
      "execution_count": 46,
      "metadata": {},
      "outputs": [],
      "source": [
        "#df = df.drop(columns=['extracted_city', 'extracted_district', 'Restoran_Adresi'])\n",
        "#df"
      ]
    },
    {
      "cell_type": "code",
      "execution_count": 47,
      "metadata": {},
      "outputs": [
        {
          "data": {
            "application/vnd.microsoft.datawrangler.viewer.v0+json": {
              "columns": [
                {
                  "name": "Ilce",
                  "rawType": "object",
                  "type": "string"
                },
                {
                  "name": "count",
                  "rawType": "int64",
                  "type": "integer"
                }
              ],
              "ref": "06387a97-a0db-45f1-95fa-6c7ba6f71c4e",
              "rows": [
                [
                  "Çankaya",
                  "4717"
                ],
                [
                  "Etimesgut",
                  "3626"
                ],
                [
                  "Keçiören",
                  "3218"
                ],
                [
                  "Altındağ",
                  "2962"
                ],
                [
                  "Mamak",
                  "2903"
                ],
                [
                  "Pursaklar",
                  "2421"
                ],
                [
                  "Beypazarı",
                  "1630"
                ],
                [
                  "Sincan",
                  "1460"
                ],
                [
                  "Kahramankazan",
                  "1230"
                ],
                [
                  "Yenimahalle",
                  "1208"
                ],
                [
                  "Elmadağ",
                  "346"
                ],
                [
                  "Gölbaşı",
                  "175"
                ],
                [
                  "Eryaman",
                  "90"
                ],
                [
                  "Çayyolu",
                  "88"
                ],
                [
                  "Kalecik",
                  "64"
                ],
                [
                  "35;;A",
                  "53"
                ],
                [
                  "No:66/C",
                  "15"
                ]
              ],
              "shape": {
                "columns": 1,
                "rows": 17
              }
            },
            "text/plain": [
              "Ilce\n",
              "Çankaya          4717\n",
              "Etimesgut        3626\n",
              "Keçiören         3218\n",
              "Altındağ         2962\n",
              "Mamak            2903\n",
              "Pursaklar        2421\n",
              "Beypazarı        1630\n",
              "Sincan           1460\n",
              "Kahramankazan    1230\n",
              "Yenimahalle      1208\n",
              "Elmadağ           346\n",
              "Gölbaşı           175\n",
              "Eryaman            90\n",
              "Çayyolu            88\n",
              "Kalecik            64\n",
              "35;;A              53\n",
              "No:66/C            15\n",
              "Name: count, dtype: int64"
            ]
          },
          "execution_count": 47,
          "metadata": {},
          "output_type": "execute_result"
        }
      ],
      "source": [
        "df[\"Ilce\"].value_counts()"
      ]
    },
    {
      "cell_type": "code",
      "execution_count": 48,
      "metadata": {},
      "outputs": [
        {
          "name": "stdout",
          "output_type": "stream",
          "text": [
            "Updated 2956 rows to 'Mamak'\n",
            "Updated 15 rows to 'Beypazari'\n",
            "\n",
            "Most common districts after cleaning:\n",
            "Ilce\n",
            "Çankaya          4717\n",
            "Etimesgut        3626\n",
            "Keçiören         3218\n",
            "Altındağ         2962\n",
            "Mamak            2956\n",
            "Pursaklar        2421\n",
            "Beypazarı        1630\n",
            "Sincan           1460\n",
            "Kahramankazan    1230\n",
            "Yenimahalle      1208\n",
            "Name: count, dtype: int64\n"
          ]
        }
      ],
      "source": [
        "# Clean ilçe values\n",
        "def clean_ilce_values(df):\n",
        "    # Make a copy to avoid SettingWithCopyWarning\n",
        "    df = df.copy()\n",
        "    \n",
        "    # Replace specific values\n",
        "    df.loc[df['Ilce'] == '35;;A', 'Ilce'] = 'Mamak'\n",
        "    df.loc[df['Ilce'] == 'No:66/C', 'Ilce'] = 'BEYPAZARI'\n",
        "    \n",
        "    # Make sure all district names have consistent capitalization (Title case)\n",
        "    df['Ilce'] = df['Ilce'].apply(lambda x: x.title() if isinstance(x, str) else x)\n",
        "    \n",
        "    # Count the changes\n",
        "    mamak_count = (df['Ilce'] == 'Mamak').sum()\n",
        "    beypazari_count = (df['Ilce'] == 'Beypazari').sum()\n",
        "    \n",
        "    print(f\"Updated {mamak_count} rows to 'Mamak'\")\n",
        "    print(f\"Updated {beypazari_count} rows to 'Beypazari'\")\n",
        "    \n",
        "    # Show the most common districts after cleaning\n",
        "    print(\"\\nMost common districts after cleaning:\")\n",
        "    print(df['Ilce'].value_counts().head(10))\n",
        "    \n",
        "    return df\n",
        "\n",
        "# Apply the cleaning\n",
        "df = clean_ilce_values(df)"
      ]
    },
    {
      "cell_type": "code",
      "execution_count": 54,
      "metadata": {},
      "outputs": [],
      "source": [
        "df_normalize = df[['Mekan_Adı', 'Puan_normalized', 'Restoran_Toplam_Yorum_Sayısı_normalized', 'sentiment_score_normalized',\n",
        "          'Tat_normalized', 'Hizmet_normalized', 'Ortam_normalized',\n",
        "          'Fiyat-Performans_normalized', 'Menü Çeşitliliği_normalized',\n",
        "          'Temizlik_normalized', 'Il', 'Ilce']]"
      ]
    },
    {
      "cell_type": "code",
      "execution_count": 53,
      "metadata": {},
      "outputs": [],
      "source": [
        "df.to_csv('normalized_data.csv', index=False)"
      ]
    },
    {
      "cell_type": "code",
      "execution_count": null,
      "metadata": {},
      "outputs": [],
      "source": [
        "df_normalized.plt"
      ]
    }
  ],
  "metadata": {
    "kernelspec": {
      "display_name": "base",
      "language": "python",
      "name": "python3"
    },
    "language_info": {
      "codemirror_mode": {
        "name": "ipython",
        "version": 3
      },
      "file_extension": ".py",
      "mimetype": "text/x-python",
      "name": "python",
      "nbconvert_exporter": "python",
      "pygments_lexer": "ipython3",
      "version": "3.12.7"
    }
  },
  "nbformat": 4,
  "nbformat_minor": 2
}
