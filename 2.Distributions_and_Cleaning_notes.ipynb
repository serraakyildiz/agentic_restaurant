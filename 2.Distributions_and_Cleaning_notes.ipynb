{
 "cells": [
  {
   "cell_type": "code",
   "execution_count": 1,
   "id": "b6b4a9b2",
   "metadata": {},
   "outputs": [],
   "source": [
    "import pandas as pd\n",
    "import numpy as np\n",
    "import seaborn as sns\n",
    "import matplotlib.pyplot as plt\n",
    "from scipy import stats"
   ]
  },
  {
   "cell_type": "code",
   "execution_count": null,
   "id": "6c8c96ae",
   "metadata": {},
   "outputs": [
    {
     "data": {
      "text/html": [
       "<div>\n",
       "<style scoped>\n",
       "    .dataframe tbody tr th:only-of-type {\n",
       "        vertical-align: middle;\n",
       "    }\n",
       "\n",
       "    .dataframe tbody tr th {\n",
       "        vertical-align: top;\n",
       "    }\n",
       "\n",
       "    .dataframe thead th {\n",
       "        text-align: right;\n",
       "    }\n",
       "</style>\n",
       "<table border=\"1\" class=\"dataframe\">\n",
       "  <thead>\n",
       "    <tr style=\"text-align: right;\">\n",
       "      <th></th>\n",
       "      <th>Mekan_Adı</th>\n",
       "      <th>Kullanıcı_Adı</th>\n",
       "      <th>Yorum</th>\n",
       "      <th>Puan</th>\n",
       "      <th>Yorum_Tarihi</th>\n",
       "      <th>Restoran_Kategorisi</th>\n",
       "      <th>Restoran_Toplam_Yorum_Sayısı</th>\n",
       "      <th>Ortalama_Restoran_Puanı</th>\n",
       "      <th>Restoran_Adresi</th>\n",
       "    </tr>\n",
       "  </thead>\n",
       "  <tbody>\n",
       "    <tr>\n",
       "      <th>0</th>\n",
       "      <td>01_adanali_ismail_ustanin_yeri</td>\n",
       "      <td>güvenç tünay</td>\n",
       "      <td>Mezeler etler tavuk harika\\nHizmet süper\\nHarika</td>\n",
       "      <td>5</td>\n",
       "      <td>2025-07-13</td>\n",
       "      <td>Restoran</td>\n",
       "      <td>767</td>\n",
       "      <td>4.1</td>\n",
       "      <td>Sancak, Tiflis Cd. No:41, 06550 Çankaya/Ankara</td>\n",
       "    </tr>\n",
       "    <tr>\n",
       "      <th>1</th>\n",
       "      <td>01_adanali_ismail_ustanin_yeri</td>\n",
       "      <td>Ali Can Vurgun</td>\n",
       "      <td>Mezeleri temizliği yemeklerin lezzeti harikadi...</td>\n",
       "      <td>5</td>\n",
       "      <td>2025-06-20</td>\n",
       "      <td>Restoran</td>\n",
       "      <td>767</td>\n",
       "      <td>4.1</td>\n",
       "      <td>Sancak, Tiflis Cd. No:41, 06550 Çankaya/Ankara</td>\n",
       "    </tr>\n",
       "    <tr>\n",
       "      <th>2</th>\n",
       "      <td>01_adanali_ismail_ustanin_yeri</td>\n",
       "      <td>Pelin Yildirim</td>\n",
       "      <td>Resmen dolandırıldık. Yani bunu başka türlü aç...</td>\n",
       "      <td>1</td>\n",
       "      <td>2025-06-20</td>\n",
       "      <td>Restoran</td>\n",
       "      <td>767</td>\n",
       "      <td>4.1</td>\n",
       "      <td>Sancak, Tiflis Cd. No:41, 06550 Çankaya/Ankara</td>\n",
       "    </tr>\n",
       "  </tbody>\n",
       "</table>\n",
       "</div>"
      ],
      "text/plain": [
       "                        Mekan_Adı   Kullanıcı_Adı  \\\n",
       "0  01_adanali_ismail_ustanin_yeri    güvenç tünay   \n",
       "1  01_adanali_ismail_ustanin_yeri  Ali Can Vurgun   \n",
       "2  01_adanali_ismail_ustanin_yeri  Pelin Yildirim   \n",
       "\n",
       "                                               Yorum  Puan Yorum_Tarihi  \\\n",
       "0   Mezeler etler tavuk harika\\nHizmet süper\\nHarika     5   2025-07-13   \n",
       "1  Mezeleri temizliği yemeklerin lezzeti harikadi...     5   2025-06-20   \n",
       "2  Resmen dolandırıldık. Yani bunu başka türlü aç...     1   2025-06-20   \n",
       "\n",
       "  Restoran_Kategorisi  Restoran_Toplam_Yorum_Sayısı  Ortalama_Restoran_Puanı  \\\n",
       "0            Restoran                           767                      4.1   \n",
       "1            Restoran                           767                      4.1   \n",
       "2            Restoran                           767                      4.1   \n",
       "\n",
       "                                  Restoran_Adresi  \n",
       "0  Sancak, Tiflis Cd. No:41, 06550 Çankaya/Ankara  \n",
       "1  Sancak, Tiflis Cd. No:41, 06550 Çankaya/Ankara  \n",
       "2  Sancak, Tiflis Cd. No:41, 06550 Çankaya/Ankara  "
      ]
     },
     "execution_count": 2,
     "metadata": {},
     "output_type": "execute_result"
    }
   ],
   "source": [
    "df = pd.read_excel(\"FinalDataFrame.xlsx\", engine='openpyxl')"
   ]
  },
  {
   "cell_type": "code",
   "execution_count": 3,
   "id": "024b9af2",
   "metadata": {},
   "outputs": [
    {
     "name": "stdout",
     "output_type": "stream",
     "text": [
      "<class 'pandas.core.frame.DataFrame'>\n",
      "RangeIndex: 171042 entries, 0 to 171041\n",
      "Data columns (total 9 columns):\n",
      " #   Column                        Non-Null Count   Dtype         \n",
      "---  ------                        --------------   -----         \n",
      " 0   Mekan_Adı                     171042 non-null  object        \n",
      " 1   Kullanıcı_Adı                 171041 non-null  object        \n",
      " 2   Yorum                         171042 non-null  object        \n",
      " 3   Puan                          171042 non-null  int64         \n",
      " 4   Yorum_Tarihi                  171042 non-null  datetime64[ns]\n",
      " 5   Restoran_Kategorisi           171042 non-null  object        \n",
      " 6   Restoran_Toplam_Yorum_Sayısı  171042 non-null  int64         \n",
      " 7   Ortalama_Restoran_Puanı       171042 non-null  float64       \n",
      " 8   Restoran_Adresi               171042 non-null  object        \n",
      "dtypes: datetime64[ns](1), float64(1), int64(2), object(5)\n",
      "memory usage: 11.7+ MB\n"
     ]
    }
   ],
   "source": [
    "df.info()"
   ]
  },
  {
   "cell_type": "code",
   "execution_count": 4,
   "id": "95482037",
   "metadata": {},
   "outputs": [],
   "source": [
    "# Bir müşterinin aynı restorana aynı yorumdan birden fazla yapması durumunda, bu yorumların bir tanesinin tutulması ve kalanının silinmesi\n",
    "\n",
    "df.drop_duplicates(subset=['Mekan_Adı', 'Kullanıcı_Adı', 'Yorum'], inplace=True)"
   ]
  },
  {
   "cell_type": "code",
   "execution_count": 5,
   "id": "6635549e",
   "metadata": {},
   "outputs": [
    {
     "name": "stdout",
     "output_type": "stream",
     "text": [
      "<class 'pandas.core.frame.DataFrame'>\n",
      "Index: 166325 entries, 0 to 171041\n",
      "Data columns (total 9 columns):\n",
      " #   Column                        Non-Null Count   Dtype         \n",
      "---  ------                        --------------   -----         \n",
      " 0   Mekan_Adı                     166325 non-null  object        \n",
      " 1   Kullanıcı_Adı                 166324 non-null  object        \n",
      " 2   Yorum                         166325 non-null  object        \n",
      " 3   Puan                          166325 non-null  int64         \n",
      " 4   Yorum_Tarihi                  166325 non-null  datetime64[ns]\n",
      " 5   Restoran_Kategorisi           166325 non-null  object        \n",
      " 6   Restoran_Toplam_Yorum_Sayısı  166325 non-null  int64         \n",
      " 7   Ortalama_Restoran_Puanı       166325 non-null  float64       \n",
      " 8   Restoran_Adresi               166325 non-null  object        \n",
      "dtypes: datetime64[ns](1), float64(1), int64(2), object(5)\n",
      "memory usage: 12.7+ MB\n"
     ]
    }
   ],
   "source": [
    "df.info()"
   ]
  },
  {
   "cell_type": "markdown",
   "id": "8b66277a",
   "metadata": {},
   "source": [
    "Bir müşterinin aynı restorana aynı yorumu birden fazla kez yapmış olabileceği gözetilerek, söz konusu yorumlar veriden çıkarılmıştır. Anılan işlem sonrasında 171.042 olan yorum adedi 166.325'e gerilemiştir."
   ]
  },
  {
   "cell_type": "markdown",
   "id": "651b5a50",
   "metadata": {},
   "source": [
    "# Temel İstatistikler"
   ]
  },
  {
   "cell_type": "code",
   "execution_count": 6,
   "id": "b7a37ba8",
   "metadata": {},
   "outputs": [
    {
     "name": "stdout",
     "output_type": "stream",
     "text": [
      "Toplam Restoran Sayısı: 2475\n",
      "Toplam Yorum Sayısı: 166325\n"
     ]
    }
   ],
   "source": [
    "# Toplam Restoran Sayısı\n",
    "total_restaurants = df['Mekan_Adı'].nunique()\n",
    "print(f\"Toplam Restoran Sayısı: {total_restaurants}\")\n",
    "\n",
    "# Toplam Yorum Sayısı\n",
    "total_reviews = df.groupby('Mekan_Adı').size().sum()\n",
    "print(f\"Toplam Yorum Sayısı: {total_reviews}\")"
   ]
  },
  {
   "cell_type": "code",
   "execution_count": 7,
   "id": "d74273da",
   "metadata": {},
   "outputs": [
    {
     "name": "stdout",
     "output_type": "stream",
     "text": [
      "Restoranların Kategorilere Göre Dağılımı:\n",
      "Restoran_Kategorisi\n",
      "Restoran            154715\n",
      "Tatlı & Kahve         3887\n",
      "Fast Food             3151\n",
      "Other                 2743\n",
      "Dünya Mutfakları      1191\n",
      "İçki Mekanları         638\n",
      "Name: count, dtype: int64\n"
     ]
    }
   ],
   "source": [
    "# Restoranların Kategorilere Göre Dağılımı\n",
    "category_counts = df['Restoran_Kategorisi'].value_counts()\n",
    "print(\"Restoranların Kategorilere Göre Dağılımı:\")\n",
    "print(category_counts)"
   ]
  },
  {
   "cell_type": "code",
   "execution_count": 8,
   "id": "1f969d9f",
   "metadata": {},
   "outputs": [
    {
     "name": "stdout",
     "output_type": "stream",
     "text": [
      "Yorumların Yıllara Göre Dağılımı:\n",
      "            Yorum_Sayısı  Yüzde\n",
      "Yorum_Yılı                     \n",
      "2012                   1   0.00\n",
      "2013                   6   0.00\n",
      "2014                   6   0.00\n",
      "2015                  12   0.01\n",
      "2016                  33   0.02\n",
      "2017                 212   0.13\n",
      "2018                 900   0.54\n",
      "2019                2241   1.35\n",
      "2020                3003   1.81\n",
      "2021                3831   2.30\n",
      "2022                8519   5.12\n",
      "2023               13314   8.00\n",
      "2024               49948  30.03\n",
      "2025               84299  50.68\n"
     ]
    }
   ],
   "source": [
    "# Restoranların Yorum Tarihlerine Göre Dağılımı\n",
    "df['Yorum_Tarihi'] = pd.to_datetime(df['Yorum_Tarihi'], errors='coerce')\n",
    "df['Yorum_Yılı'] = df['Yorum_Tarihi'].dt.year\n",
    "yearly_review_counts = df['Yorum_Yılı'].value_counts().sort_index()\n",
    "percentage = (yearly_review_counts / total_reviews * 100).round(2)\n",
    "yearly_review_df = pd.DataFrame({\n",
    "    'Yorum_Sayısı': yearly_review_counts,\n",
    "    'Yüzde': percentage\n",
    "})\n",
    "print(\"Yorumların Yıllara Göre Dağılımı:\")\n",
    "print(yearly_review_df)"
   ]
  },
  {
   "cell_type": "code",
   "execution_count": 9,
   "id": "058749c5",
   "metadata": {},
   "outputs": [
    {
     "data": {
      "image/png": "[encoded data removed]",
      "text/plain": [
       "<Figure size 600x400 with 1 Axes>"
      ]
     },
     "metadata": {},
     "output_type": "display_data"
    }
   ],
   "source": [
    "# Histogram oluştur\n",
    "plt.figure(figsize=(6,4))\n",
    "sns.barplot(x=yearly_review_df.index, y=yearly_review_df['Yorum_Sayısı'], color='skyblue')\n",
    "plt.xlabel(\"Yıl\")\n",
    "plt.ylabel(\"Yorum Sayısı\")\n",
    "plt.title(\"Yıllara Göre Yorum Sayısı Dağılımı\")\n",
    "plt.xticks(rotation=45)\n",
    "plt.tight_layout()\n",
    "plt.show()"
   ]
  },
  {
   "cell_type": "code",
   "execution_count": 10,
   "id": "041759f0",
   "metadata": {},
   "outputs": [],
   "source": [
    "df = df[df['Yorum_Yılı'] > 2018]\n",
    "df.reset_index(drop=True, inplace=True)"
   ]
  },
  {
   "cell_type": "code",
   "execution_count": 12,
   "id": "b87047c3",
   "metadata": {},
   "outputs": [
    {
     "data": {
      "text/plain": [
       "(165155, 10)"
      ]
     },
     "execution_count": 12,
     "metadata": {},
     "output_type": "execute_result"
    }
   ],
   "source": [
    "df.shape"
   ]
  },
  {
   "cell_type": "markdown",
   "id": "e353a2e8",
   "metadata": {},
   "source": [
    "Yorum yılı 2018 ve daha eski olan yorumlar veriden çıkarılmıştır. Söz konusu yorumların güncelliğini yitirdiği ve doğru olmayan öngörülere sebebiyet verebileceği görüşü edinilmiştir. Söz konusu grup toplam yorumların yaklaşık %1'ine denk gelmektedir. Anılan işlem sonrasında 166.325 olan yorum adedi 165.155'e gerilemiştir."
   ]
  },
  {
   "cell_type": "code",
   "execution_count": 13,
   "id": "2a873efa",
   "metadata": {},
   "outputs": [
    {
     "name": "stdout",
     "output_type": "stream",
     "text": [
      "Restoranların Toplam Yorum Sayılarına Göre Dağılımı:\n",
      "0.01      13.00\n",
      "0.02      15.00\n",
      "0.03      18.00\n",
      "0.04      21.00\n",
      "0.05      25.00\n",
      "0.10      46.00\n",
      "0.25     149.00\n",
      "0.50     522.50\n",
      "0.75    1150.00\n",
      "0.90    2195.80\n",
      "0.95    3427.45\n",
      "0.99    7694.18\n",
      "Name: Restoran_Toplam_Yorum_Sayısı, dtype: float64\n"
     ]
    }
   ],
   "source": [
    "# Restoran Toplam Yorum Sayılarına Göre Dağılımı\n",
    "restaurant_review_counts = df[['Mekan_Adı', 'Restoran_Toplam_Yorum_Sayısı']].drop_duplicates()\n",
    "\n",
    "percentiles = restaurant_review_counts['Restoran_Toplam_Yorum_Sayısı'].quantile([0.01, 0.02, 0.03, 0.04, 0.05, 0.10, 0.25, 0.5, 0.75, 0.9, 0.95, 0.99])\n",
    "print(\"Restoranların Toplam Yorum Sayılarına Göre Dağılımı:\")\n",
    "print(percentiles)"
   ]
  },
  {
   "cell_type": "code",
   "execution_count": 14,
   "id": "18f4e2de",
   "metadata": {},
   "outputs": [
    {
     "name": "stderr",
     "output_type": "stream",
     "text": [
      "c:\\Users\\Burak\\anaconda3\\Lib\\site-packages\\seaborn\\_oldcore.py:1119: FutureWarning: use_inf_as_na option is deprecated and will be removed in a future version. Convert inf values to NaN before operating instead.\n",
      "  with pd.option_context('mode.use_inf_as_na', True):\n"
     ]
    },
    {
     "data": {
      "image/png": "[encoded data removed]",
      "text/plain": [
       "<Figure size 600x400 with 1 Axes>"
      ]
     },
     "metadata": {},
     "output_type": "display_data"
    }
   ],
   "source": [
    "# Histogram oluştur\n",
    "plt.figure(figsize=(6,4))\n",
    "sns.histplot(restaurant_review_counts['Restoran_Toplam_Yorum_Sayısı'], bins=50, kde=False, color='skyblue')\n",
    "plt.xlabel(\"Restoran Toplam Yorum Sayısı\")\n",
    "plt.ylabel(\"Restoran Sayısı\")\n",
    "plt.title(\"Restoranların Toplam Yorum Sayılarına Göre Dağılımı\")\n",
    "plt.tight_layout()\n",
    "plt.show()"
   ]
  },
  {
   "cell_type": "code",
   "execution_count": 15,
   "id": "fdc87a02",
   "metadata": {},
   "outputs": [],
   "source": [
    "# Restoran toplam yorum adedi 13 ve daha az olan restoranların adlarını bul\n",
    "low_review_restaurants = restaurant_review_counts[restaurant_review_counts['Restoran_Toplam_Yorum_Sayısı'] <= 13]['Mekan_Adı']\n",
    "\n",
    "# Bu restoranlara ait yorumları veri setinden çıkar\n",
    "df = df[~df['Mekan_Adı'].isin(low_review_restaurants)]\n",
    "df.reset_index(drop=True, inplace=True)"
   ]
  },
  {
   "cell_type": "code",
   "execution_count": 16,
   "id": "d00c4080",
   "metadata": {},
   "outputs": [
    {
     "data": {
      "text/plain": [
       "(164956, 10)"
      ]
     },
     "execution_count": 16,
     "metadata": {},
     "output_type": "execute_result"
    }
   ],
   "source": [
    "df.shape"
   ]
  },
  {
   "cell_type": "markdown",
   "id": "9fdd1d0e",
   "metadata": {},
   "source": [
    "Toplam yorum adedi 13'ten az olan restoranların yorumları veriden çıkarılmıştır. Anılan restoranlar, toplam restoran yorumlarının %1'ine denk gelmektedir. Söz konusu yorumların restoran sahipleri ya da yakınları tarafından yapılmış olabileceği ve anılan durumun veri kalitesini olumsuz etkileyebileceği görüşü edinilmiştir. Anılan işlem sonrasında 165.155 olan yorum adedi 164.956'ya gerilemiştir."
   ]
  },
  {
   "cell_type": "code",
   "execution_count": 17,
   "id": "a0bad1d2",
   "metadata": {},
   "outputs": [
    {
     "name": "stdout",
     "output_type": "stream",
     "text": [
      "Kelime adedi gruplarına göre yorum adedi:\n",
      "Kelime_Adedi_Grubu\n",
      "1           4419\n",
      "2           7051\n",
      "3           6067\n",
      "4-10       44106\n",
      "11-50      87599\n",
      "51-100     12542\n",
      "101-500     3169\n",
      "501+           3\n",
      "Name: count, dtype: int64\n"
     ]
    },
    {
     "name": "stderr",
     "output_type": "stream",
     "text": [
      "C:\\Users\\Burak\\AppData\\Local\\Temp\\ipykernel_24304\\13869385.py:2: SettingWithCopyWarning: \n",
      "A value is trying to be set on a copy of a slice from a DataFrame.\n",
      "Try using .loc[row_indexer,col_indexer] = value instead\n",
      "\n",
      "See the caveats in the documentation: https://pandas.pydata.org/pandas-docs/stable/user_guide/indexing.html#returning-a-view-versus-a-copy\n",
      "  df['Yorum_Kelime_Adedi'] = df['Yorum'].apply(lambda x: len(str(x).split()))\n",
      "C:\\Users\\Burak\\AppData\\Local\\Temp\\ipykernel_24304\\13869385.py:16: SettingWithCopyWarning: \n",
      "A value is trying to be set on a copy of a slice from a DataFrame.\n",
      "Try using .loc[row_indexer,col_indexer] = value instead\n",
      "\n",
      "See the caveats in the documentation: https://pandas.pydata.org/pandas-docs/stable/user_guide/indexing.html#returning-a-view-versus-a-copy\n",
      "  df['Kelime_Adedi_Grubu'] = pd.cut(df['Yorum_Kelime_Adedi'], bins=bins, labels=labels, right=True, include_lowest=True)\n"
     ]
    }
   ],
   "source": [
    "# Yorumların Kelime Adetleri\n",
    "df['Yorum_Kelime_Adedi'] = df['Yorum'].apply(lambda x: len(str(x).split()))\n",
    "\n",
    "# Kelime adedi gruplarını oluştur\n",
    "bins = [0, 1, 2, 3, 10, 50, 100, 500, np.inf]\n",
    "labels = [\n",
    "    '1', \n",
    "    '2', \n",
    "    '3', \n",
    "    '4-10', \n",
    "    '11-50', \n",
    "    '51-100', \n",
    "    '101-500', \n",
    "    '501+'\n",
    "]\n",
    "df['Kelime_Adedi_Grubu'] = pd.cut(df['Yorum_Kelime_Adedi'], bins=bins, labels=labels, right=True, include_lowest=True)\n",
    "group_counts = df['Kelime_Adedi_Grubu'].value_counts().reindex(labels, fill_value=0)\n",
    "print(\"Kelime adedi gruplarına göre yorum adedi:\")\n",
    "print(group_counts)"
   ]
  },
  {
   "cell_type": "code",
   "execution_count": 18,
   "id": "4ce0441b",
   "metadata": {},
   "outputs": [
    {
     "data": {
      "image/png": "[encoded data removed]",
      "text/plain": [
       "<Figure size 600x400 with 1 Axes>"
      ]
     },
     "metadata": {},
     "output_type": "display_data"
    }
   ],
   "source": [
    "# Histogram oluştur\n",
    "plt.figure(figsize=(6,4))\n",
    "sns.barplot(x=group_counts.index, y=group_counts.values, palette=\"viridis\")\n",
    "plt.xlabel(\"Kelime Adedi Grubu\")\n",
    "plt.ylabel(\"Yorum Adedi\")\n",
    "plt.title(\"Yorumların Kelime Adedi Gruplarına Göre Dağılımı\")\n",
    "plt.xticks(rotation=30)\n",
    "plt.tight_layout()\n",
    "plt.show()"
   ]
  },
  {
   "cell_type": "code",
   "execution_count": 19,
   "id": "99c84405",
   "metadata": {},
   "outputs": [],
   "source": [
    "# 2 ve daha az kelimeden oluşan yorumları veriden çıkar\n",
    "df = df[df['Yorum_Kelime_Adedi'] > 2]\n",
    "df.reset_index(drop=True, inplace=True)"
   ]
  },
  {
   "cell_type": "code",
   "execution_count": 20,
   "id": "f10eb07d",
   "metadata": {},
   "outputs": [
    {
     "data": {
      "text/plain": [
       "(153486, 12)"
      ]
     },
     "execution_count": 20,
     "metadata": {},
     "output_type": "execute_result"
    }
   ],
   "source": [
    "df.shape"
   ]
  },
  {
   "cell_type": "markdown",
   "id": "d6527bbc",
   "metadata": {},
   "source": [
    "2 ve daha az kelime içeren yorumlar veriden çıkarılmıştır. Burada 2 kelime olarak belirlenmesinin sebebi; veri üzerinden gerçekleştirilen kontrollerde 3 kelimelik yorumlarda; \"Meze çeşidi yok\", \"Hizmet kalitesi sıfır\" gibi proje için anlamlı olabilecek yorumların bulunması belirleyici olmuştur. Ancak 1 ve 2 kelimeli yorumlarda çoğunlukla; \"Başarılı\", \"Teşekkürler\", \"Yorum yok\" gibi proje için anlamlı olmayan kelimeler yer almaktadır. Anılan işlem sonrasında 164.956 olan yorum adedi 153.486'ya gerilemiştir."
   ]
  },
  {
   "cell_type": "markdown",
   "id": "b5068ebc",
   "metadata": {},
   "source": [
    "# Manipülasyon Kontrolleri"
   ]
  },
  {
   "cell_type": "markdown",
   "id": "6235be6b",
   "metadata": {},
   "source": [
    "Aynı restorana kullanıcılar tarafından yapılan 3'er adet yorum incelenmiştir. Söz konusu yorumların birbirinden farklı bilgiler içermesi sebebiyle anılan yorumlar veriden çıkarılmamıştır."
   ]
  },
  {
   "cell_type": "code",
   "execution_count": null,
   "id": "29479080",
   "metadata": {},
   "outputs": [],
   "source": [
    "df.to_excel(\"CleanedDataFrame.xlsx\", index=False, engine='openpyxl')"
   ]
  }
 ],
 "metadata": {
  "kernelspec": {
   "display_name": "base",
   "language": "python",
   "name": "python3"
  },
  "language_info": {
   "codemirror_mode": {
    "name": "ipython",
    "version": 3
   },
   "file_extension": ".py",
   "mimetype": "text/x-python",
   "name": "python",
   "nbconvert_exporter": "python",
   "pygments_lexer": "ipython3",
   "version": "3.11.7"
  }
 },
 "nbformat": 4,
 "nbformat_minor": 5
}
