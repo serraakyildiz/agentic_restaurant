{
 "cells": [
  {
   "cell_type": "markdown",
   "id": "U1MKcyn2O3o7",
   "metadata": {
    "id": "U1MKcyn2O3o7"
   },
   "source": [
    "# Google Maps Data Scraper\n",
    "\n",
    "## Overview\n",
    "This notebook contains a comprehensive scraping solution for collecting detailed information about places from Google Maps, including their reviews. The project is split into two main parts:\n",
    "\n",
    "1. **Place Details Scraper** (Cell 1)\n",
    "   - Searches for places on Google Maps based on user input\n",
    "   - Collects detailed information for each place:\n",
    "     - Restaurant/Place Name\n",
    "     - Address\n",
    "     - Rating\n",
    "     - Number of Reviews\n",
    "     - Category\n",
    "     - Price Range\n",
    "     - Google Maps Link\n",
    "   - Saves data to a CSV file with UTF-8 encoding\n",
    "\n",
    "2. **Review Scraper** (Cell 2-3)\n",
    "   - Takes the CSV file generated from Part 1 as input\n",
    "   - Visits each place's Google Maps page\n",
    "   - Collects detailed review information:\n",
    "     - Review Order\n",
    "     - Username\n",
    "     - Rating\n",
    "     - Review Text\n",
    "     - Review Date\n",
    "   - Saves reviews for each place in separate CSV files in a 'yorumlar/' (reviews) directory\n",
    "\n",
    "## Features\n",
    "- **Automated Browser Control**: Uses Selenium WebDriver with Chrome\n",
    "- **Anti-Detection Measures**: Implements various techniques to avoid bot detection\n",
    "- **Smart Scrolling**: Automatically scrolls to load all available results\n",
    "- **Error Handling**: Robust error handling and recovery mechanisms\n",
    "- **Rate Limiting**: Implements random delays to avoid being blocked\n",
    "- **Data Cleaning**: Handles special characters and formatting\n",
    "- **Progress Tracking**: Detailed progress reporting during scraping\n",
    "- **File Management**: Organized file naming and storage system"
   ]
  }
 ],
 "metadata": {
  "colab": {
   "provenance": []
  },
  "kernelspec": {
   "display_name": "base",
   "language": "python",
   "name": "python3"
  },
  "language_info": {
   "codemirror_mode": {
    "name": "ipython",
    "version": 3
   },
   "file_extension": ".py",
   "mimetype": "text/x-python",
   "name": "python",
   "nbconvert_exporter": "python",
   "pygments_lexer": "ipython3",
   "version": "3.12.7"
  }
 },
 "nbformat": 4,
 "nbformat_minor": 5
}
