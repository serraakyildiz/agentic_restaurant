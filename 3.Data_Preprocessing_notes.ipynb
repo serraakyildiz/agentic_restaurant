{
 "cells": [
  {
   "cell_type": "markdown",
   "id": "xBWAXN66O5Mw",
   "metadata": {
    "id": "xBWAXN66O5Mw"
   },
   "source": [
    "# Data Preprocessing for Restaurant Reviews Analysis\n",
    "\n",
    "## Overview\n",
    "This notebook performs data preprocessing and integration of restaurant reviews data collected from multiple sources. The main objective is to clean, standardize, and combine review data with restaurant details to create a comprehensive dataset for analysis.\n",
    "\n",
    "## Process Flow\n",
    "1. **Data Import and Initial Processing**\n",
    "\n",
    "2. **Data Standardization**\n",
    "   - Standardizes column names across different data formats\n",
    "   - Merges the two groups of data after standardization\n",
    "\n",
    "3. **Data Cleaning**\n",
    "   - Removes duplicate reviews\n",
    "   - Eliminates entries without review content or dates\n",
    "   - Processes and standardizes restaurant names\n",
    "   - Converts review dates to a consistent datetime format using reference dates\n",
    "\n",
    "4. **Data Integration**\n",
    "   - Merges review data with restaurant details (categories, addresses, etc.)\n",
    "   - Handles missing values and special cases\n",
    "   - Creates a final consolidated dataset\n",
    "\n",
    "## Final Dataset Statistics\n",
    "- Total number of processed reviews: 171,042\n",
    "- Key columns:\n",
    "  - Mekan_Adı (Restaurant Name)\n",
    "  - Kullanıcı_Adı (Username)\n",
    "  - Yorum (Review)\n",
    "  - Puan (Rating)\n",
    "  - Yorum_Tarihi (Review Date)\n",
    "  - Restoran_Kategorisi (Restaurant Category)\n",
    "  - Restoran_Toplam_Yorum_Sayısı (Total Restaurant Reviews)\n",
    "  - Ortalama_Restoran_Puanı (Average Restaurant Rating)\n",
    "  - Restoran_Adresi (Restaurant Address)\n",
    "\n",
    "## Output\n",
    "The final preprocessed dataset is exported to \"FinalDataFrame.xlsx\" for further analysis."
   ]
  }
 ],
 "metadata": {
  "colab": {
   "provenance": []
  },
  "kernelspec": {
   "display_name": "base",
   "language": "python",
   "name": "python3"
  },
  "language_info": {
   "codemirror_mode": {
    "name": "ipython",
    "version": 3
   },
   "file_extension": ".py",
   "mimetype": "text/x-python",
   "name": "python",
   "nbconvert_exporter": "python",
   "pygments_lexer": "ipython3",
   "version": "3.11.7"
  }
 },
 "nbformat": 4,
 "nbformat_minor": 5
}
